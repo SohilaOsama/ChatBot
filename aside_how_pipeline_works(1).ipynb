{
  "nbformat": 4,
  "nbformat_minor": 0,
  "metadata": {
    "colab": {
      "name": "aside_how_pipeline_works(1).ipynb",
      "provenance": [],
      "collapsed_sections": [],
      "authorship_tag": "ABX9TyN7ExD/liePNFGAZu6qiShO",
      "include_colab_link": true
    },
    "kernelspec": {
      "name": "python3",
      "display_name": "Python 3"
    },
    "language_info": {
      "name": "python"
    }
  },
  "cells": [
    {
      "cell_type": "markdown",
      "metadata": {
        "id": "view-in-github",
        "colab_type": "text"
      },
      "source": [
        "<a href=\"https://colab.research.google.com/github/SohilaOsama/ChatBot/blob/main/aside_how_pipeline_works(1).ipynb\" target=\"_parent\"><img src=\"https://colab.research.google.com/assets/colab-badge.svg\" alt=\"Open In Colab\"/></a>"
      ]
    },
    {
      "cell_type": "code",
      "execution_count": 20,
      "metadata": {
        "id": "KvhdbRCb27X1"
      },
      "outputs": [],
      "source": [
        "import pandas as pd\n",
        "import numpy as np\n",
        "import copy\n",
        "\n",
        "from sklearn.impute import KNNImputer\n",
        "from imblearn.over_sampling import SMOTE\n",
        "from sklearn.preprocessing import StandardScaler\n",
        "from collections import Counter\n",
        "\n",
        "from sklearn.neighbors import KNeighborsClassifier\n",
        "from imblearn.pipeline import Pipeline\n",
        "\n",
        "from sklearn.metrics import confusion_matrix\n",
        "from sklearn.metrics import accuracy_score\n",
        "from sklearn.metrics import recall_score\n",
        "from sklearn.metrics import precision_score\n",
        "from sklearn.metrics import roc_curve\n",
        "from sklearn.metrics import precision_recall_curve\n",
        "from sklearn.metrics import auc\n",
        "from sklearn.metrics import roc_auc_score\n",
        "\n",
        "import matplotlib.pyplot as plt\n",
        "import seaborn as sns"
      ]
    },
    {
      "cell_type": "code",
      "source": [
        "df_1 = pd.read_csv('https://raw.githubusercontent.com/johnwck/my_da_ds_work/fdfdceffae069b85e50b8688e90a10101333db68/ga_dsif2_capstone_project/data/code_3_train.csv')\n",
        "df_1.drop(columns=['index',\n",
        "                   'pco2', 'ph', 'basophils', 'lactic_acid', 'bmi',\n",
        "                   'creatine_kinase', 'lymphocyte', 'neutrophils'], inplace=True)\n",
        "\n",
        "X_train = df_1.drop(columns=['outcome'])\n",
        "\n",
        "y_train = df_1['outcome']\n"
      ],
      "metadata": {
        "id": "0ljGpYsU3hsH"
      },
      "execution_count": 21,
      "outputs": []
    },
    {
      "cell_type": "code",
      "source": [
        "df_2 = pd.read_csv('https://raw.githubusercontent.com/johnwck/my_da_ds_work/fdfdceffae069b85e50b8688e90a10101333db68/ga_dsif2_capstone_project/data/code_3_test.csv')\n",
        "\n",
        "df_2.drop(columns=['index',\n",
        "                   'pco2', 'ph', 'basophils', 'lactic_acid', 'bmi',\n",
        "                   'creatine_kinase', 'lymphocyte', 'neutrophils'], inplace=True)\n",
        "\n",
        "X_test = df_2.drop(columns=['outcome'])\n",
        "\n",
        "y_test = df_2['outcome']"
      ],
      "metadata": {
        "id": "MfkymdQ99bfR"
      },
      "execution_count": 22,
      "outputs": []
    },
    {
      "cell_type": "code",
      "source": [
        "pipe_line_kn = Pipeline([('knn_impute', KNNImputer(n_neighbors=10)),\n",
        "                         ('oversample_SMOTE', SMOTE(random_state=42)),\n",
        "                         ('ss_scale', StandardScaler()),\n",
        "                         ('kn_class', KNeighborsClassifier())])\n",
        "\n",
        "pipe_line_kn.set_params(oversample_SMOTE__sampling_strategy=0.75,\n",
        "                        kn_class__n_neighbors=1000,\n",
        "                        kn_class__weights='uniform',\n",
        "                        kn_class__algorithm='brute',\n",
        "                        kn_class__p=2)\n",
        "\n",
        "pipe_line_kn.fit(X_train, y_train)\n",
        "\n",
        "y_train_predicted1 = pipe_line_kn.predict(X_train)\n",
        "\n",
        "y_test_predicted1 = pipe_line_kn.predict(X_test)"
      ],
      "metadata": {
        "id": "7_3bpXKyBpjW"
      },
      "execution_count": 23,
      "outputs": []
    },
    {
      "cell_type": "markdown",
      "source": [
        "**Method(1)**"
      ],
      "metadata": {
        "id": "TUH6JLJOB6GM"
      }
    },
    {
      "cell_type": "code",
      "source": [
        "print('Train accuracy :', accuracy_score(y_train, y_train_predicted1))\n",
        "print('Test accuracy :', accuracy_score(y_test, y_test_predicted1))\n",
        "\n",
        "print('Train recall :', recall_score(y_train, y_train_predicted1))\n",
        "print('Test recall :', recall_score(y_test, y_test_predicted1))\n",
        "\n",
        "print('Train precision :', precision_score(y_train, y_train_predicted1))\n",
        "print('Test precision :', precision_score(y_test, y_test_predicted1))"
      ],
      "metadata": {
        "colab": {
          "base_uri": "https://localhost:8080/"
        },
        "id": "2H296N3kBueG",
        "outputId": "b2c21da3-f23d-4723-ab00-924d438bda01"
      },
      "execution_count": 24,
      "outputs": [
        {
          "output_type": "stream",
          "name": "stdout",
          "text": [
            "Train accuracy : 0.873015873015873\n",
            "Test accuracy : 0.8673469387755102\n",
            "Train recall : 0.15966386554621848\n",
            "Test recall : 0.175\n",
            "Train precision : 0.6129032258064516\n",
            "Test precision : 0.5384615384615384\n"
          ]
        }
      ]
    },
    {
      "cell_type": "markdown",
      "source": [
        "Method (2)"
      ],
      "metadata": {
        "id": "o0zL5zkmCEO9"
      }
    },
    {
      "cell_type": "code",
      "source": [
        "knn_impute = KNNImputer(n_neighbors=10)\n",
        "X_train_impute = knn_impute.fit_transform(X_train)"
      ],
      "metadata": {
        "id": "LSSBKZYpB1h1"
      },
      "execution_count": 25,
      "outputs": []
    },
    {
      "cell_type": "code",
      "source": [
        "oversample_SMOTE = SMOTE(random_state=42, sampling_strategy=0.75)\n",
        "X_train_impute_over, y_train_over = oversample_SMOTE.fit_resample(X_train_impute, y_train.ravel())"
      ],
      "metadata": {
        "id": "99ySAM0oCJ52"
      },
      "execution_count": 26,
      "outputs": []
    },
    {
      "cell_type": "code",
      "source": [
        "ss_scale = StandardScaler()\n",
        "X_train_impute_over_scale = ss_scale.fit_transform(X_train_impute_over)"
      ],
      "metadata": {
        "id": "nOOXqbJlCNNc"
      },
      "execution_count": 27,
      "outputs": []
    },
    {
      "cell_type": "code",
      "source": [
        "kn_class = KNeighborsClassifier(n_neighbors=1000, weights='uniform', algorithm='brute', p=2)\n",
        "kn_class.fit(X_train_impute_over_scale, y_train_over)"
      ],
      "metadata": {
        "colab": {
          "base_uri": "https://localhost:8080/"
        },
        "id": "zZ3CvxQbCQCs",
        "outputId": "9e994fea-db74-46c2-ce08-3198aeb0e23b"
      },
      "execution_count": 28,
      "outputs": [
        {
          "output_type": "execute_result",
          "data": {
            "text/plain": [
              "KNeighborsClassifier(algorithm='brute', n_neighbors=1000)"
            ]
          },
          "metadata": {},
          "execution_count": 28
        }
      ]
    },
    {
      "cell_type": "code",
      "source": [
        "X_train_impute = knn_impute.transform(X_train)\n",
        "\n",
        "X_train_impute_scale = ss_scale.transform(X_train_impute)\n",
        "\n",
        "y_train_predicted2 = kn_class.predict(X_train_impute_scale)"
      ],
      "metadata": {
        "id": "ggjENunrCUK9"
      },
      "execution_count": 29,
      "outputs": []
    },
    {
      "cell_type": "code",
      "source": [
        "X_test_impute = knn_impute.transform(X_test)\n",
        "\n",
        "X_test_impute_scale = ss_scale.transform(X_test_impute)\n",
        "\n",
        "y_test_predicted2 = kn_class.predict(X_test_impute_scale)"
      ],
      "metadata": {
        "id": "ERfFoydlCXjV"
      },
      "execution_count": 30,
      "outputs": []
    },
    {
      "cell_type": "code",
      "source": [
        "print('Train accuracy :', accuracy_score(y_train, y_train_predicted2))\n",
        "print('Test accuracy :', accuracy_score(y_test, y_test_predicted2))\n",
        "\n",
        "print('Train recall :', recall_score(y_train, y_train_predicted2))\n",
        "print('Test recall :', recall_score(y_test, y_test_predicted2))\n",
        "\n",
        "print('Train precision :', precision_score(y_train, y_train_predicted2))\n",
        "print('Test precision :', precision_score(y_test, y_test_predicted2))"
      ],
      "metadata": {
        "colab": {
          "base_uri": "https://localhost:8080/"
        },
        "id": "rhqI4rrfCaqF",
        "outputId": "c8061dc3-83ef-4a17-b4ef-66fac05596e8"
      },
      "execution_count": 31,
      "outputs": [
        {
          "output_type": "stream",
          "name": "stdout",
          "text": [
            "Train accuracy : 0.873015873015873\n",
            "Test accuracy : 0.8673469387755102\n",
            "Train recall : 0.15966386554621848\n",
            "Test recall : 0.175\n",
            "Train precision : 0.6129032258064516\n",
            "Test precision : 0.5384615384615384\n"
          ]
        }
      ]
    }
  ]
}