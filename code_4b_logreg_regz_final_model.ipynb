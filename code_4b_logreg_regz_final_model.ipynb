{
  "nbformat": 4,
  "nbformat_minor": 0,
  "metadata": {
    "colab": {
      "name": "code_4b_logreg_regz_final_model.ipynb",
      "provenance": [],
      "authorship_tag": "ABX9TyPNe9WopiY17a0Cy4ENWtLy",
      "include_colab_link": true
    },
    "kernelspec": {
      "name": "python3",
      "display_name": "Python 3"
    },
    "language_info": {
      "name": "python"
    }
  },
  "cells": [
    {
      "cell_type": "markdown",
      "metadata": {
        "id": "view-in-github",
        "colab_type": "text"
      },
      "source": [
        "<a href=\"https://colab.research.google.com/github/SohilaOsama/ChatBot/blob/main/code_4b_logreg_regz_final_model.ipynb\" target=\"_parent\"><img src=\"https://colab.research.google.com/assets/colab-badge.svg\" alt=\"Open In Colab\"/></a>"
      ]
    },
    {
      "cell_type": "markdown",
      "source": [
        "Section 1: Import"
      ],
      "metadata": {
        "id": "q1cE9Znd2c51"
      }
    },
    {
      "cell_type": "code",
      "execution_count": 2,
      "metadata": {
        "id": "NJYM87sj1_Cx"
      },
      "outputs": [],
      "source": [
        "import pandas as pd\n",
        "import numpy as np\n",
        "import copy\n",
        "\n",
        "from sklearn.model_selection import StratifiedKFold\n",
        "\n",
        "from sklearn.impute import KNNImputer\n",
        "from imblearn.over_sampling import SMOTE\n",
        "from sklearn.preprocessing import StandardScaler\n",
        "from collections import Counter\n",
        "\n",
        "import statsmodels.api as sm\n",
        "\n",
        "from sklearn.metrics import confusion_matrix\n",
        "from sklearn.metrics import accuracy_score\n",
        "from sklearn.metrics import recall_score\n",
        "from sklearn.metrics import precision_score\n",
        "from sklearn.metrics import roc_curve\n",
        "from sklearn.metrics import precision_recall_curve\n",
        "from sklearn.metrics import auc\n",
        "from sklearn.metrics import roc_auc_score\n",
        "\n",
        "import matplotlib.pyplot as plt\n",
        "import seaborn as sns\n",
        "import pandas.util.testing as tm"
      ]
    },
    {
      "cell_type": "markdown",
      "source": [
        "Section 2: Read, drop columns, form X_train and y_train"
      ],
      "metadata": {
        "id": "IW-H_n5k3wHE"
      }
    },
    {
      "cell_type": "code",
      "source": [
        "# ---------- read ----------\n",
        "\n",
        "df_1 = pd.read_csv('/content/code_3_train.csv')\n",
        "\n",
        "# ---------- drop ----------\n",
        "\n",
        "print('Before drop :', df_1.shape)\n",
        "df_1.drop(columns=['index',\n",
        "                   'pco2', 'ph', 'basophils', 'lactic_acid', 'bmi',\n",
        "                   'creatine_kinase', 'lymphocyte', 'neutrophils'], inplace=True)\n",
        "print('After drop:', df_1.shape)\n",
        "print('')\n",
        "\n",
        "# ---------- form X ----------\n",
        "\n",
        "X_train = df_1.drop(columns=['outcome'])\n",
        "print('X_train :', X_train.shape)\n",
        "\n",
        "# ---------- form y ----------\n",
        "\n",
        "y_train = df_1['outcome']\n",
        "print('y_train :', y_train.shape)\n",
        "print('')\n",
        "print('y_train :', np.unique(y_train, return_counts=True))\n",
        "print('y_train :', Counter(y_train))\n",
        "print(y_train.value_counts(normalize=True))"
      ],
      "metadata": {
        "colab": {
          "base_uri": "https://localhost:8080/"
        },
        "id": "-4-C7zzm3xUy",
        "outputId": "2ed3473b-60c9-4016-f0a0-fe71150753bc"
      },
      "execution_count": 3,
      "outputs": [
        {
          "output_type": "stream",
          "name": "stdout",
          "text": [
            "Before drop : (882, 51)\n",
            "After drop: (882, 42)\n",
            "\n",
            "X_train : (882, 41)\n",
            "y_train : (882,)\n",
            "\n",
            "y_train : (array([0., 1.]), array([763, 119]))\n",
            "y_train : Counter({0.0: 763, 1.0: 119})\n",
            "0.0    0.865079\n",
            "1.0    0.134921\n",
            "Name: outcome, dtype: float64\n"
          ]
        }
      ]
    },
    {
      "cell_type": "markdown",
      "source": [
        "Section 3: Function - Impute"
      ],
      "metadata": {
        "id": "7G5KTJ534Faj"
      }
    },
    {
      "cell_type": "code",
      "source": [
        "# ---------- this function is to retain the column names of dataframe after missing values imputation ----------\n",
        "\n",
        "def impute_fit_transform(to_impute, to_impute_fit_transform):\n",
        "    temp_df = []\n",
        "    temp_df = to_impute_fit_transform.fit_transform(to_impute)\n",
        "    temp_df = pd.DataFrame(temp_df, columns=to_impute.columns)\n",
        "    to_impute = copy.deepcopy(temp_df)\n",
        "    return to_impute, to_impute_fit_transform\n",
        "\n",
        "def impute_transform(to_impute, to_impute_fit_transform):\n",
        "    temp_df = []\n",
        "    temp_df = to_impute_fit_transform.transform(to_impute)\n",
        "    temp_df = pd.DataFrame(temp_df, columns=to_impute.columns)\n",
        "    to_impute = copy.deepcopy(temp_df)\n",
        "    return to_impute"
      ],
      "metadata": {
        "id": "tymPNqBN4AwU"
      },
      "execution_count": 4,
      "outputs": []
    },
    {
      "cell_type": "markdown",
      "source": [
        "Section 4: Function - Scale"
      ],
      "metadata": {
        "id": "hZlGAxq64Pf6"
      }
    },
    {
      "cell_type": "code",
      "source": [
        "# ---------- this function is to retain the column names of dataframe after scaling ----------\n",
        "\n",
        "def scale_fit_transform(to_scale, to_scale_fit_transform):\n",
        "    temp_df = []\n",
        "    temp_df = to_scale_fit_transform.fit_transform(to_scale)\n",
        "    temp_df = pd.DataFrame(temp_df, columns=to_scale.columns)\n",
        "    to_scale = copy.deepcopy(temp_df)\n",
        "    return to_scale, to_scale_fit_transform\n",
        "\n",
        "def scale_transform(to_scale, to_scale_fit_transform):\n",
        "    temp_df = []\n",
        "    temp_df = to_scale_fit_transform.transform(to_scale)\n",
        "    temp_df = pd.DataFrame(temp_df, columns=to_scale.columns)\n",
        "    to_scale = copy.deepcopy(temp_df)\n",
        "    return to_scale"
      ],
      "metadata": {
        "id": "5paWzda34J1M"
      },
      "execution_count": 5,
      "outputs": []
    },
    {
      "cell_type": "markdown",
      "source": [
        "Section 5: Impute, oversample, scale, instantiate, fit, predict - Full train set"
      ],
      "metadata": {
        "id": "fjYl62kw4UVt"
      }
    },
    {
      "cell_type": "code",
      "source": [
        "# ---------- best parameters and hyperparameters ----------\n",
        "\n",
        "search_parameters = {'oversample': [0.85],\n",
        "                     'decision_boundary': [0.35]}\n",
        "alpha_log_reg = 50\n",
        "\n",
        "print('Before y_train:', Counter(y_train))\n",
        "print('Oversample :', search_parameters['oversample'][0])\n",
        "print('Decision boundary :', search_parameters['decision_boundary'][0])\n",
        "print('alpha =', alpha_log_reg)\n",
        "print('')\n",
        "\n",
        "# ---------- impute on train ----------\n",
        "\n",
        "knn_impute = KNNImputer(n_neighbors=5)\n",
        "X_train_impute, knn_impute_fit_transform = impute_fit_transform(X_train,\n",
        "                                                                knn_impute)\n",
        "\n",
        "# ---------- oversample SMOTE ----------\n",
        "                                                         \n",
        "o_s = SMOTE(random_state=42,\n",
        "            sampling_strategy=search_parameters['oversample'][0])\n",
        "X_train_impute_over, y_train_over = o_s.fit_resample(X_train_impute,\n",
        "                                                     y_train.ravel())\n",
        "\n",
        "print('Before_Over y_train:', Counter(y_train_over))\n",
        "print('')\n",
        "ss = StandardScaler()\n",
        "X_train_impute_over_scale, ss_fit_transform = scale_fit_transform(X_train_impute_over,\n",
        "                                                                  ss)\n",
        "\n",
        "# ---------- instantiate and fit regularized on train ----------\n",
        "\n",
        "X_train_impute_over_scale = sm.add_constant(X_train_impute_over_scale)\n",
        "lr = sm.Logit(y_train_over, X_train_impute_over_scale)\n",
        "lr_result = lr.fit_regularized(maxiter=500, method='l1', alpha=alpha_log_reg)\n",
        "\n",
        "# ---------- impute, scale and predict on train ----------\n",
        "\n",
        "X_train_impute = impute_transform(X_train, knn_impute_fit_transform)\n",
        "X_train_impute_scale = scale_transform(X_train_impute, ss_fit_transform)\n",
        "\n",
        "X_train_impute_scale = sm.add_constant(X_train_impute_scale)\n",
        "y_train_predicted = (lr_result.predict(X_train_impute_scale)>=search_parameters['decision_boundary'][0]).astype(int)"
      ],
      "metadata": {
        "colab": {
          "base_uri": "https://localhost:8080/"
        },
        "id": "ablJ1FD-4XqB",
        "outputId": "84a11e9d-5869-4dc7-9d11-43a6e9542bb0"
      },
      "execution_count": 6,
      "outputs": [
        {
          "output_type": "stream",
          "name": "stdout",
          "text": [
            "Before y_train: Counter({0.0: 763, 1.0: 119})\n",
            "Oversample : 0.85\n",
            "Decision boundary : 0.35\n",
            "alpha = 50\n",
            "\n",
            "Before_Over y_train: Counter({0.0: 763, 1.0: 648})\n",
            "\n"
          ]
        },
        {
          "output_type": "stream",
          "name": "stderr",
          "text": [
            "/usr/local/lib/python3.7/dist-packages/statsmodels/tsa/tsatools.py:117: FutureWarning: In a future version of pandas all arguments of concat except for the argument 'objs' will be keyword-only\n",
            "  x = pd.concat(x[::order], 1)\n"
          ]
        },
        {
          "output_type": "stream",
          "name": "stdout",
          "text": [
            "Optimization terminated successfully.    (Exit mode 0)\n",
            "            Current function value: 0.5877341576205927\n",
            "            Iterations: 42\n",
            "            Function evaluations: 43\n",
            "            Gradient evaluations: 42\n"
          ]
        },
        {
          "output_type": "stream",
          "name": "stderr",
          "text": [
            "/usr/local/lib/python3.7/dist-packages/statsmodels/tsa/tsatools.py:117: FutureWarning: In a future version of pandas all arguments of concat except for the argument 'objs' will be keyword-only\n",
            "  x = pd.concat(x[::order], 1)\n"
          ]
        }
      ]
    },
    {
      "cell_type": "markdown",
      "source": [
        "Section 6: Model summary"
      ],
      "metadata": {
        "id": "fP-zjV3i4tvO"
      }
    },
    {
      "cell_type": "code",
      "source": [
        "# ---------- model summary ----------\n",
        "\n",
        "print('-------------------- Model Summary 1: From Statsmodels API --------------------')\n",
        "print('')\n",
        "print(lr_result.summary())\n",
        "print('')\n",
        "\n",
        "print('-------------------- Model Summary 2: Sorted by ascending p --------------------')\n",
        "print('')\n",
        "temp_df = pd.read_html(lr_result.summary().tables[1].as_html(), header=0, index_col=0)[0]\n",
        "temp_df = pd.DataFrame(temp_df)\n",
        "temp_df.reset_index(level=0, inplace=True)\n",
        "temp_df.rename(columns={'index': 'feature', 'std err': 'std_err', 'P>|z|': 'p', 'coef': 'std_coef'}, inplace=True)\n",
        "temp_df = temp_df[['feature', 'std_coef', 'z', 'p']]\n",
        "temp_df.sort_values(by='p', ascending=True, inplace=True)\n",
        "print(temp_df)\n",
        "print('')\n",
        "\n",
        "print('-------------------- Model Summary 3: p < 0.05 sorted by coef --------------------')\n",
        "print('')\n",
        "print(temp_df[temp_df['p']<0.05][['feature', 'std_coef', 'z', 'p']].sort_values(by='std_coef'))"
      ],
      "metadata": {
        "colab": {
          "base_uri": "https://localhost:8080/"
        },
        "id": "jK-wYs5n4omX",
        "outputId": "dcff389d-575b-4593-ae28-b478c09603ef"
      },
      "execution_count": 7,
      "outputs": [
        {
          "output_type": "stream",
          "name": "stdout",
          "text": [
            "-------------------- Model Summary 1: From Statsmodels API --------------------\n",
            "\n",
            "                           Logit Regression Results                           \n",
            "==============================================================================\n",
            "Dep. Variable:                      y   No. Observations:                 1411\n",
            "Model:                          Logit   Df Residuals:                     1392\n",
            "Method:                           MLE   Df Model:                           18\n",
            "Date:                Wed, 30 Mar 2022   Pseudo R-squ.:                  0.2932\n",
            "Time:                        22:12:30   Log-Likelihood:                -687.96\n",
            "converged:                       True   LL-Null:                       -973.34\n",
            "Covariance Type:            nonrobust   LLR p-value:                1.293e-109\n",
            "============================================================================================\n",
            "                               coef    std err          z      P>|z|      [0.025      0.975]\n",
            "--------------------------------------------------------------------------------------------\n",
            "const                       -0.0224      0.060     -0.375      0.707      -0.139       0.095\n",
            "group                             0        nan        nan        nan         nan         nan\n",
            "age                               0        nan        nan        nan         nan         nan\n",
            "gendera                           0        nan        nan        nan         nan         nan\n",
            "hypertensive                -0.0731      0.064     -1.148      0.251      -0.198       0.052\n",
            "atrialfibrillation           0.1725      0.062      2.785      0.005       0.051       0.294\n",
            "chd_with_no_mi                    0        nan        nan        nan         nan         nan\n",
            "diabetes                          0        nan        nan        nan         nan         nan\n",
            "deficiencyanemias           -0.1804      0.063     -2.871      0.004      -0.304      -0.057\n",
            "depression                        0        nan        nan        nan         nan         nan\n",
            "hyperlipemia                -0.0256      0.063     -0.410      0.682      -0.148       0.097\n",
            "renal_failure               -0.3328      0.069     -4.851      0.000      -0.467      -0.198\n",
            "copd                              0        nan        nan        nan         nan         nan\n",
            "heart_rate                   0.1387      0.068      2.031      0.042       0.005       0.273\n",
            "systolic_blood_pressure     -0.0687      0.073     -0.940      0.347      -0.212       0.075\n",
            "diastolic_blood_pressure    -0.0681      0.073     -0.936      0.349      -0.211       0.074\n",
            "respiratory_rate             0.0570      0.065      0.873      0.383      -0.071       0.185\n",
            "temperature                       0        nan        nan        nan         nan         nan\n",
            "sp_o2                       -0.1459      0.065     -2.245      0.025      -0.273      -0.019\n",
            "urine_output                -0.2168      0.069     -3.133      0.002      -0.352      -0.081\n",
            "hematocrit                        0        nan        nan        nan         nan         nan\n",
            "rbc                               0        nan        nan        nan         nan         nan\n",
            "mch                               0        nan        nan        nan         nan         nan\n",
            "mchc                              0        nan        nan        nan         nan         nan\n",
            "mcv                               0        nan        nan        nan         nan         nan\n",
            "rdw                          0.1135      0.064      1.773      0.076      -0.012       0.239\n",
            "leucocyte                    0.1719      0.075      2.298      0.022       0.025       0.319\n",
            "platelets                   -0.0964      0.066     -1.462      0.144      -0.226       0.033\n",
            "pt                                0        nan        nan        nan         nan         nan\n",
            "inr                               0        nan        nan        nan         nan         nan\n",
            "nt-probnp                         0        nan        nan        nan         nan         nan\n",
            "creatinine                        0        nan        nan        nan         nan         nan\n",
            "urea_nitrogen                0.3728      0.083      4.485      0.000       0.210       0.536\n",
            "glucose                           0        nan        nan        nan         nan         nan\n",
            "blood_potassium                   0        nan        nan        nan         nan         nan\n",
            "blood_sodium                      0        nan        nan        nan         nan         nan\n",
            "blood_calcium               -0.2525      0.070     -3.602      0.000      -0.390      -0.115\n",
            "chloride                          0        nan        nan        nan         nan         nan\n",
            "anion_gap                    0.0355      0.097      0.367      0.714      -0.154       0.225\n",
            "magnesium_ion                     0        nan        nan        nan         nan         nan\n",
            "bicarbonate                 -0.2817      0.090     -3.114      0.002      -0.459      -0.104\n",
            "ef                                0        nan        nan        nan         nan         nan\n",
            "============================================================================================\n",
            "\n",
            "-------------------- Model Summary 2: Sorted by ascending p --------------------\n",
            "\n",
            "                     feature  std_coef      z      p\n",
            "36             blood_calcium   -0.2525 -3.602  0.000\n",
            "11             renal_failure   -0.3328 -4.851  0.000\n",
            "32             urea_nitrogen    0.3728  4.485  0.000\n",
            "40               bicarbonate   -0.2817 -3.114  0.002\n",
            "19              urine_output   -0.2168 -3.133  0.002\n",
            "8          deficiencyanemias   -0.1804 -2.871  0.004\n",
            "5         atrialfibrillation    0.1725  2.785  0.005\n",
            "26                 leucocyte    0.1719  2.298  0.022\n",
            "18                     sp_o2   -0.1459 -2.245  0.025\n",
            "13                heart_rate    0.1387  2.031  0.042\n",
            "25                       rdw    0.1135  1.773  0.076\n",
            "27                 platelets   -0.0964 -1.462  0.144\n",
            "4               hypertensive   -0.0731 -1.148  0.251\n",
            "14   systolic_blood_pressure   -0.0687 -0.940  0.347\n",
            "15  diastolic_blood_pressure   -0.0681 -0.936  0.349\n",
            "16          respiratory_rate    0.0570  0.873  0.383\n",
            "10              hyperlipemia   -0.0256 -0.410  0.682\n",
            "0                      const   -0.0224 -0.375  0.707\n",
            "38                 anion_gap    0.0355  0.367  0.714\n",
            "1                      group    0.0000    NaN    NaN\n",
            "2                        age    0.0000    NaN    NaN\n",
            "3                    gendera    0.0000    NaN    NaN\n",
            "6             chd_with_no_mi    0.0000    NaN    NaN\n",
            "7                   diabetes    0.0000    NaN    NaN\n",
            "9                 depression    0.0000    NaN    NaN\n",
            "12                      copd    0.0000    NaN    NaN\n",
            "17               temperature    0.0000    NaN    NaN\n",
            "20                hematocrit    0.0000    NaN    NaN\n",
            "21                       rbc    0.0000    NaN    NaN\n",
            "22                       mch    0.0000    NaN    NaN\n",
            "23                      mchc    0.0000    NaN    NaN\n",
            "24                       mcv    0.0000    NaN    NaN\n",
            "28                        pt    0.0000    NaN    NaN\n",
            "29                       inr    0.0000    NaN    NaN\n",
            "30                 nt-probnp    0.0000    NaN    NaN\n",
            "31                creatinine    0.0000    NaN    NaN\n",
            "33                   glucose    0.0000    NaN    NaN\n",
            "34           blood_potassium    0.0000    NaN    NaN\n",
            "35              blood_sodium    0.0000    NaN    NaN\n",
            "37                  chloride    0.0000    NaN    NaN\n",
            "39             magnesium_ion    0.0000    NaN    NaN\n",
            "41                        ef    0.0000    NaN    NaN\n",
            "\n",
            "-------------------- Model Summary 3: p < 0.05 sorted by coef --------------------\n",
            "\n",
            "               feature  std_coef      z      p\n",
            "11       renal_failure   -0.3328 -4.851  0.000\n",
            "40         bicarbonate   -0.2817 -3.114  0.002\n",
            "36       blood_calcium   -0.2525 -3.602  0.000\n",
            "19        urine_output   -0.2168 -3.133  0.002\n",
            "8    deficiencyanemias   -0.1804 -2.871  0.004\n",
            "18               sp_o2   -0.1459 -2.245  0.025\n",
            "13          heart_rate    0.1387  2.031  0.042\n",
            "26           leucocyte    0.1719  2.298  0.022\n",
            "5   atrialfibrillation    0.1725  2.785  0.005\n",
            "32       urea_nitrogen    0.3728  4.485  0.000\n"
          ]
        }
      ]
    },
    {
      "cell_type": "markdown",
      "source": [
        "Section 7: Read, drop columns, form X_test and y_test"
      ],
      "metadata": {
        "id": "8pJtFvR25Bc5"
      }
    },
    {
      "cell_type": "code",
      "source": [
        "# ---------- read ----------\n",
        "\n",
        "df_2 = pd.read_csv('/content/code_3_test.csv')\n",
        "\n",
        "# ---------- drop ----------\n",
        "\n",
        "print('Before drop :', df_2.shape)\n",
        "df_2.drop(columns=['index',\n",
        "                   'pco2', 'ph', 'basophils', 'lactic_acid', 'bmi',\n",
        "                   'creatine_kinase', 'lymphocyte', 'neutrophils'], inplace=True)\n",
        "print('After drop:', df_2.shape)\n",
        "print('')\n",
        "\n",
        "# ---------- form X ----------\n",
        "\n",
        "X_test = df_2.drop(columns=['outcome'])\n",
        "print('X_test :', X_test.shape)\n",
        "\n",
        "# ---------- form y ----------\n",
        "\n",
        "y_test = df_2['outcome']\n",
        "print('y_test :', y_test.shape)\n",
        "print('')\n",
        "print('y_test :', np.unique(y_test, return_counts=True))\n",
        "print('y_test :', Counter(y_test))\n",
        "print(y_test.value_counts(normalize=True))"
      ],
      "metadata": {
        "colab": {
          "base_uri": "https://localhost:8080/"
        },
        "id": "ajTSf6TY5EYS",
        "outputId": "02ad9bc5-c964-4de7-9537-2dc4ff8adbac"
      },
      "execution_count": 8,
      "outputs": [
        {
          "output_type": "stream",
          "name": "stdout",
          "text": [
            "Before drop : (294, 51)\n",
            "After drop: (294, 42)\n",
            "\n",
            "X_test : (294, 41)\n",
            "y_test : (294,)\n",
            "\n",
            "y_test : (array([0., 1.]), array([254,  40]))\n",
            "y_test : Counter({0.0: 254, 1.0: 40})\n",
            "0.0    0.863946\n",
            "1.0    0.136054\n",
            "Name: outcome, dtype: float64\n"
          ]
        }
      ]
    },
    {
      "cell_type": "markdown",
      "source": [
        "Section 8: Impute, scale, predict - Full test set"
      ],
      "metadata": {
        "id": "QkLS_hV05Wss"
      }
    },
    {
      "cell_type": "code",
      "source": [
        "# ---------- impute on full test with transform ----------\n",
        "\n",
        "X_test_impute = impute_transform(X_test, knn_impute_fit_transform)\n",
        "\n",
        "# ---------- scale on full test with transform ----------\n",
        "\n",
        "X_test_impute_scale = scale_transform(X_test_impute, ss_fit_transform)\n",
        "\n",
        "# ---------- predict and evaluate on full test ----------\n",
        "\n",
        "X_test_impute_scale = sm.add_constant(X_test_impute_scale)\n",
        "y_test_predicted = (lr_result.predict(X_test_impute_scale)>=search_parameters['decision_boundary'][0]).astype(int)"
      ],
      "metadata": {
        "colab": {
          "base_uri": "https://localhost:8080/"
        },
        "id": "nZudOonU5Oev",
        "outputId": "1a37aeb9-3a08-4b25-8de1-0fbd8bf22659"
      },
      "execution_count": 9,
      "outputs": [
        {
          "output_type": "stream",
          "name": "stderr",
          "text": [
            "/usr/local/lib/python3.7/dist-packages/statsmodels/tsa/tsatools.py:117: FutureWarning: In a future version of pandas all arguments of concat except for the argument 'objs' will be keyword-only\n",
            "  x = pd.concat(x[::order], 1)\n"
          ]
        }
      ]
    },
    {
      "cell_type": "markdown",
      "source": [
        "ection 9: Evaluate"
      ],
      "metadata": {
        "id": "3hz2o6PM5gr3"
      }
    },
    {
      "cell_type": "code",
      "source": [
        "# ---------- accuracy, recall, precision, overfit evaluation ----------\n",
        "\n",
        "print('Train accuracy :', accuracy_score(y_train, y_train_predicted))\n",
        "print('Test accuracy :', accuracy_score(y_test, y_test_predicted))\n",
        "print('Overfit % = ( Test - Train ) / Train % :',\n",
        "      (accuracy_score(y_test, y_test_predicted)-accuracy_score(y_train, y_train_predicted))/accuracy_score(y_train, y_train_predicted)*100)\n",
        "print('')\n",
        "\n",
        "print('Train recall :', recall_score(y_train, y_train_predicted))\n",
        "print('Test recall :', recall_score(y_test, y_test_predicted))\n",
        "print('Overfit % = ( Test - Train ) / Train % :',\n",
        "      (recall_score(y_test, y_test_predicted)-recall_score(y_train, y_train_predicted))/recall_score(y_train, y_train_predicted)*100)\n",
        "print('')\n",
        "\n",
        "print('Train precision :', precision_score(y_train, y_train_predicted))\n",
        "print('Test precision :', precision_score(y_test, y_test_predicted))\n",
        "print('Overfit % = ( Test - Train ) / Train % :',\n",
        "      (precision_score(y_test, y_test_predicted)-precision_score(y_train, y_train_predicted))/precision_score(y_train, y_train_predicted)*100)\n",
        "print('')"
      ],
      "metadata": {
        "colab": {
          "base_uri": "https://localhost:8080/"
        },
        "id": "xu4-TkX75dKd",
        "outputId": "30572ae9-53dd-434b-f08e-bbc7fb57fdc0"
      },
      "execution_count": 10,
      "outputs": [
        {
          "output_type": "stream",
          "name": "stdout",
          "text": [
            "Train accuracy : 0.564625850340136\n",
            "Test accuracy : 0.5680272108843537\n",
            "Overfit % = ( Test - Train ) / Train % : 0.6024096385542176\n",
            "\n",
            "Train recall : 0.9159663865546218\n",
            "Test recall : 0.8\n",
            "Overfit % = ( Test - Train ) / Train % : -12.660550458715589\n",
            "\n",
            "Train precision : 0.22567287784679088\n",
            "Test precision : 0.2119205298013245\n",
            "Overfit % = ( Test - Train ) / Train % : -6.093930372440607\n",
            "\n"
          ]
        }
      ]
    },
    {
      "cell_type": "code",
      "source": [
        "# ---------- confusion matrix calculation ----------\n",
        "\n",
        "tn, fp, fn, tp = confusion_matrix(y_test, y_test_predicted).ravel()\n",
        "print('True positive (dead): ', tp)\n",
        "print('True negative (alive): ', tn)\n",
        "print('False positive (dead): ', fp)\n",
        "print('False negative (alive): ', fn)\n",
        "print('')\n",
        "\n",
        "print('Accuracy :', accuracy_score(y_test, y_test_predicted))\n",
        "print('')\n",
        "\n",
        "print('Sensitivity or Recall :', recall_score(y_test, y_test_predicted))\n",
        "print('')\n",
        "\n",
        "print('Precision or Positive Predictive Value :', precision_score(y_test, y_test_predicted))\n",
        "print('')\n",
        "\n",
        "print('Specificity :', tn/(tn+fp))\n",
        "print('')\n",
        "\n",
        "print('Negative predictive value :', tn/(tn+fn))"
      ],
      "metadata": {
        "colab": {
          "base_uri": "https://localhost:8080/"
        },
        "id": "Q8Jz_Uwa58Zp",
        "outputId": "d4dca523-5d79-4f0e-8ed9-20cb9a468650"
      },
      "execution_count": 11,
      "outputs": [
        {
          "output_type": "stream",
          "name": "stdout",
          "text": [
            "True positive (dead):  32\n",
            "True negative (alive):  135\n",
            "False positive (dead):  119\n",
            "False negative (alive):  8\n",
            "\n",
            "Accuracy : 0.5680272108843537\n",
            "\n",
            "Sensitivity or Recall : 0.8\n",
            "\n",
            "Precision or Positive Predictive Value : 0.2119205298013245\n",
            "\n",
            "Specificity : 0.531496062992126\n",
            "\n",
            "Negative predictive value : 0.9440559440559441\n"
          ]
        }
      ]
    },
    {
      "cell_type": "code",
      "source": [
        "# ---------- confusion matrix visualisation ----------\n",
        "\n",
        "temp_df = [[tp, fp], [fn, tn]]\n",
        "temp_df = pd.DataFrame(temp_df, columns=['dead (positive)', 'alive (negative)'], index=['dead (positive)', 'alive (negative)'])\n",
        "temp_df\n",
        "\n",
        "fig, ax = plt.subplots(figsize=(10, 6))\n",
        "\n",
        "sns.heatmap(temp_df, annot=True, fmt='d', annot_kws={'size': 20})\n",
        "\n",
        "# Colour map labels\n",
        "\n",
        "fig.axes[-1].tick_params(labelsize=15)\n",
        "\n",
        "# X axis title\n",
        "\n",
        "ax.tick_params(axis='x', labelrotation=0, which='major', labelsize=20, top=True, labeltop=True, bottom=False, labelbottom=False)\n",
        "ax.xaxis.set_label_position('top')\n",
        "ax.set_xlabel('actual', {'fontsize': 20})\n",
        "\n",
        "# Y axis title\n",
        "\n",
        "ax.tick_params(axis='y', labelrotation=0, which='major', labelsize=20, left=True, labelleft=True)\n",
        "ax.set_ylabel('predicted', {'fontsize': 20, 'rotation': 'horizontal'})"
      ],
      "metadata": {
        "colab": {
          "base_uri": "https://localhost:8080/",
          "height": 419
        },
        "id": "NCdN7_DM6DAe",
        "outputId": "2fdc89ee-8a7c-4098-849a-999f005b06cd"
      },
      "execution_count": 12,
      "outputs": [
        {
          "output_type": "execute_result",
          "data": {
            "text/plain": [
              "Text(69.0, 0.5, 'predicted')"
            ]
          },
          "metadata": {},
          "execution_count": 12
        },
        {
          "output_type": "display_data",
          "data": {
            "text/plain": [
              "<Figure size 720x432 with 2 Axes>"
            ],
            "image/png": "[encoded data removed]"
          },
          "metadata": {
            "needs_background": "light"
          }
        }
      ]
    },
    {
      "cell_type": "code",
      "source": [
        "# ---------- area under receiver operating characteristic curve ----------\n",
        "\n",
        "y_test_predicted_prob = lr_result.predict(X_test_impute_scale)\n",
        "\n",
        "plt.figure(figsize=(8, 6))\n",
        "\n",
        "fpr, tpr, _ = roc_curve(y_test, y_test_predicted_prob, drop_intermediate=False)\n",
        "roc_auc = auc(fpr, tpr)\n",
        "\n",
        "plt.plot(fpr, tpr, label='AUC = ' + str(round(roc_auc, 3)))\n",
        "plt.plot([0, 1], [0, 1], label='baseline', linestyle='--')\n",
        "plt.legend(loc='lower right', fontsize=20)\n",
        "plt.ylabel('True Positive Rate', fontsize=20)\n",
        "plt.xlabel('False Positive Rate', fontsize=20)\n",
        "plt.tick_params(labelsize=20)\n",
        "print('')\n",
        "\n",
        "print('Area Under Curve (AUC) :', auc(fpr, tpr))\n",
        "print('')"
      ],
      "metadata": {
        "colab": {
          "base_uri": "https://localhost:8080/",
          "height": 458
        },
        "id": "EnG-AzcD6OCd",
        "outputId": "fd971c38-09d7-4b88-b5c2-bf474f335a50"
      },
      "execution_count": 13,
      "outputs": [
        {
          "output_type": "stream",
          "name": "stdout",
          "text": [
            "\n",
            "Area Under Curve (AUC) : 0.769488188976378\n",
            "\n"
          ]
        },
        {
          "output_type": "display_data",
          "data": {
            "text/plain": [
              "<Figure size 576x432 with 1 Axes>"
            ],
            "image/png": "[encoded data removed]"
          },
          "metadata": {
            "needs_background": "light"
          }
        }
      ]
    },
    {
      "cell_type": "code",
      "source": [
        "# ---------- area under precision recall curve ----------\n",
        "\n",
        "y_test_predicted_prob = lr_result.predict(X_test_impute_scale)\n",
        "\n",
        "plt.figure(figsize=(8, 6))\n",
        "\n",
        "preci, recal, _ = precision_recall_curve(y_test, y_test_predicted_prob)\n",
        "pr_auc = auc(recal, preci)\n",
        "\n",
        "plt.plot(recal, preci, label='AUC = ' + str(round(pr_auc, 3)))\n",
        "base_line = len(y_test[y_test==1]) / len(y_test)\n",
        "plt.plot([0, 1], [base_line, base_line], label='baseline', linestyle='--')\n",
        "plt.legend(loc='upper right', fontsize=20)\n",
        "plt.ylabel('Precision', fontsize=20)\n",
        "plt.xlabel('Recall', fontsize=20)\n",
        "plt.tick_params(labelsize=20)\n",
        "print('')\n",
        "\n",
        "print('Area Under Curve (AUC) :', auc(recal, preci))\n",
        "print('')"
      ],
      "metadata": {
        "colab": {
          "base_uri": "https://localhost:8080/",
          "height": 458
        },
        "id": "8H_YS53N6VVD",
        "outputId": "693d165f-86b9-4b38-d66d-70d828a90574"
      },
      "execution_count": 14,
      "outputs": [
        {
          "output_type": "stream",
          "name": "stdout",
          "text": [
            "\n",
            "Area Under Curve (AUC) : 0.4348524230835713\n",
            "\n"
          ]
        },
        {
          "output_type": "display_data",
          "data": {
            "text/plain": [
              "<Figure size 576x432 with 1 Axes>"
            ],
            "image/png": "[encoded data removed]"
          },
          "metadata": {
            "needs_background": "light"
          }
        }
      ]
    },
    {
      "cell_type": "code",
      "source": [
        ""
      ],
      "metadata": {
        "id": "4Eom4ZBc6XfQ"
      },
      "execution_count": null,
      "outputs": []
    }
  ]
}